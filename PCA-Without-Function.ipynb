{
 "cells": [
  {
   "cell_type": "code",
   "execution_count": null,
   "id": "9fdf1396",
   "metadata": {},
   "outputs": [],
   "source": [
    "from IPython.display import Image, display\n",
    "import matplotlib.pyplot as plt\n",
    "import pandas as pd\n",
    "import seaborn as sns\n",
    "import cv2\n",
    "import matplotlib.pyplot as plt\n",
    "import matplotlib.gridspec as grid\n",
    "import numpy as np\n",
    "\n",
    "# Read RGB image into an array\n",
    "img = cv2.imread('img/LC08_L1TP_152043_20211223_20211230_01_T2.TIF')\n",
    "img_shape = img.shape[:2]\n",
    "print('image size = ',img_shape)\n",
    "\n",
    "# specify no of bands in the image\n",
    "n_bands = 7\n",
    "\n",
    "# 3 dimensional dummy array with zeros\n",
    "MB_img = np.zeros((img_shape[0],img_shape[1],n_bands))\n",
    "\n",
    "# stacking up images into the array\n",
    "for i in range(n_bands):\n",
    "    MB_img[:,:,i] = cv2.imread('img/LC08_L1TP_152043_20211223_20211230_01_T2_B'+str(i+1)+'.TIF',\n",
    "                               cv2.IMREAD_GRAYSCALE)  "
   ]
  },
  {
   "cell_type": "code",
   "execution_count": null,
   "id": "b00b0491",
   "metadata": {},
   "outputs": [],
   "source": [
    "# Let's take a look at scene\n",
    "print('\\n\\nDispalying colour image of the scene')\n",
    "plt.figure(figsize=(img_shape[0]/100,img_shape[1]/100))\n",
    "plt.imshow(img, vmin=0, vmax=255)\n",
    "plt.axis('off');"
   ]
  },
  {
   "cell_type": "code",
   "execution_count": null,
   "id": "3b75d11f",
   "metadata": {},
   "outputs": [],
   "source": [
    "fig,axes = plt.subplots(2,4,figsize=(50,23),sharex='all', sharey='all')\n",
    "fig.subplots_adjust(wspace=0.1, hspace=0.15)\n",
    "fig.suptitle('Intensities at Different Bandwidth in the visible and Infra-red spectrum', fontsize=30)\n",
    "\n",
    "# to create a contiguous flattened array\n",
    "axes = axes.ravel()\n",
    "\n",
    "for i in range(n_bands):\n",
    "    axes[i].imshow(MB_img[:,:,i],cmap='gray', vmin=0, vmax=255)\n",
    "    axes[i].set_title('band '+str(i+1),fontsize=25)\n",
    "    axes[i].axis('off')\n",
    "fig.delaxes(axes[-1])"
   ]
  },
  {
   "cell_type": "code",
   "execution_count": null,
   "id": "c9742dfa",
   "metadata": {},
   "outputs": [],
   "source": [
    "# Convert 2d band array in 1-d to make them as feature vectors and Standardization\n",
    "MB_matrix = np.zeros((MB_img[:,:,0].size,n_bands))\n",
    "\n",
    "for i in range(n_bands):\n",
    "    MB_array = MB_img[:,:,i].flatten()  # covert 2d to 1d array \n",
    "    MB_arrayStd = (MB_array - MB_array.mean())/MB_array.std()  \n",
    "    MB_matrix[:,i] = MB_arrayStd\n",
    "MB_matrix.shape"
   ]
  },
  {
   "cell_type": "code",
   "execution_count": null,
   "id": "5ceba671",
   "metadata": {},
   "outputs": [],
   "source": [
    "# Covariance\n",
    "np.set_printoptions(precision=3)\n",
    "cov = np.cov(MB_matrix.transpose())\n",
    "\n",
    "# Eigen Values\n",
    "EigVal,EigVec = np.linalg.eig(cov)\n",
    "\n",
    "print(\"Eigenvalues:\\n\\n\", EigVal,\"\\n\")\n",
    "print(\"Eigenvectors:\\n\\n\", EigVec,\"\\n\")"
   ]
  },
  {
   "cell_type": "code",
   "execution_count": null,
   "id": "c629e641",
   "metadata": {},
   "outputs": [],
   "source": [
    "# Ordering Eigen values and vectors\n",
    "order = EigVal.argsort()[::-1]\n",
    "EigVal = EigVal[order]\n",
    "EigVec = EigVec[:,order]\n",
    "\n",
    "#Projecting data on Eigen vector directions resulting to Principal Components \n",
    "PC = np.matmul(MB_matrix,EigVec)   #cross product\n",
    "PC"
   ]
  },
  {
   "cell_type": "code",
   "execution_count": null,
   "id": "da652ac8",
   "metadata": {},
   "outputs": [],
   "source": [
    "# Generate Paiplot for original data and transformed PCs\n",
    "\n",
    "Bandnames = ['Band 1','Band 2','Band 3','Band 4','Band 5','Band 6','Band 7']\n",
    "a = sns.pairplot(pd.DataFrame(MB_matrix,\n",
    "                columns = Bandnames),\n",
    "                 diag_kind='kde',plot_kws={\"s\": 3})\n",
    "a.fig.suptitle(\"Pair plot of Band images\")"
   ]
  },
  {
   "cell_type": "code",
   "execution_count": null,
   "id": "b21a22e8",
   "metadata": {},
   "outputs": [],
   "source": [
    "PCnames = ['PC 1','PC 2','PC 3','PC 4','PC 5','PC 6','PC 7']\n",
    "b = sns.pairplot(pd.DataFrame(PC,\n",
    "                columns = PCnames),\n",
    "                 diag_kind='kde',plot_kws={\"s\": 3})\n",
    "b.fig.suptitle(\"Pair plot of PCs\")"
   ]
  },
  {
   "cell_type": "code",
   "execution_count": null,
   "id": "6ce369fb",
   "metadata": {},
   "outputs": [],
   "source": [
    "#Information Retained by Principal Components\n",
    "\n",
    "plt.figure(figsize=(8,6))\n",
    "plt.bar([1,2,3,4,5,6,7],EigVal/sum(EigVal)*100,align='center',width=0.4,\n",
    "        tick_label = ['PC1','PC2','PC3','PC4','PC5','PC6','PC7'])\n",
    "plt.ylabel('Variance (%)')\n",
    "plt.title('Information retention');"
   ]
  },
  {
   "cell_type": "code",
   "execution_count": null,
   "id": "9ae0fe92",
   "metadata": {},
   "outputs": [],
   "source": [
    "# Rearranging 1-d arrays to 2-d arrays of image size\n",
    "\n",
    "PC_2d = np.zeros((img_shape[0],img_shape[1],n_bands))\n",
    "for i in range(n_bands):\n",
    "    PC_2d[:,:,i] = PC[:,i].reshape(-1,img_shape[1])\n",
    "\n",
    "# normalizing between 0 to 255\n",
    "PC_2d_Norm = np.zeros((img_shape[0],img_shape[1],n_bands))\n",
    "for i in range(n_bands):\n",
    "    PC_2d_Norm[:,:,i] = cv2.normalize(PC_2d[:,:,i], np.zeros(img_shape),0,255 ,cv2.NORM_MINMAX)"
   ]
  },
  {
   "cell_type": "code",
   "execution_count": null,
   "id": "da0e4c98",
   "metadata": {},
   "outputs": [],
   "source": [
    "\n",
    "fig,axes = plt.subplots(2,4,figsize=(50,23),sharex='all',\n",
    "                        sharey='all')\n",
    "fig.subplots_adjust(wspace=0.1, hspace=0.15)\n",
    "fig.suptitle('Intensities of Principal Components ', fontsize=30)\n",
    "\n",
    "axes = axes.ravel()\n",
    "for i in range(n_bands):\n",
    "    axes[i].imshow(PC_2d_Norm[:,:,i],cmap='gray', vmin=0, vmax=255)\n",
    "    axes[i].set_title('PC '+str(i+1),fontsize=25)\n",
    "    axes[i].axis('off')\n",
    "fig.delaxes(axes[-1])"
   ]
  },
  {
   "cell_type": "code",
   "execution_count": null,
   "id": "0b4a4a40",
   "metadata": {},
   "outputs": [],
   "source": [
    "# Comparsion of RGB and Image produced using first three bands\n",
    "fig,axes = plt.subplots(1,2,figsize=(50,23),\n",
    "                        sharex='all', sharey='all')   \n",
    "fig.subplots_adjust(wspace=0.1, hspace=0.15)\n",
    "\n",
    "axes[0].imshow(MB_img[:,:,0:7].astype(int))\n",
    "axes[0].axis('off');\n",
    "\n",
    "axes[1].imshow(PC_2d_Norm[:,:,:3][:,:,[0,2,1]].astype(int))\n",
    "axes[1].axis('off');"
   ]
  },
  {
   "cell_type": "code",
   "execution_count": null,
   "id": "b7a8e400",
   "metadata": {},
   "outputs": [],
   "source": []
  }
 ],
 "metadata": {
  "kernelspec": {
   "display_name": "Python 3 (ipykernel)",
   "language": "python",
   "name": "python3"
  },
  "language_info": {
   "codemirror_mode": {
    "name": "ipython",
    "version": 3
   },
   "file_extension": ".py",
   "mimetype": "text/x-python",
   "name": "python",
   "nbconvert_exporter": "python",
   "pygments_lexer": "ipython3",
   "version": "3.7.10"
  },
  "vscode": {
   "interpreter": {
    "hash": "5238573367df39f7286bb46f9ff5f08f63a01a80960060ce41e3c79b190280fa"
   }
  }
 },
 "nbformat": 4,
 "nbformat_minor": 5
}
